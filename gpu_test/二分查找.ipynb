{
 "cells": [
  {
   "cell_type": "code",
   "execution_count": 40,
   "metadata": {},
   "outputs": [
    {
     "name": "stdout",
     "output_type": "stream",
     "text": [
      "True\n",
      "True\n",
      "True\n",
      "True\n",
      "False\n",
      "False\n",
      "False\n",
      "True\n",
      "True\n",
      "True\n"
     ]
    }
   ],
   "source": [
    "from math import floor\n",
    "\n",
    "test_len = 12\n",
    "fbt_array = [\n",
    "    [0,   0, 100, 112],\n",
    "    [1, 113, 156, 168],\n",
    "    [2, 168, 230, 242],\n",
    "    [3, 245, 360, 372],\n",
    "    [4, 373, 700, 712]]\n",
    "\n",
    "def is_valid_idx(idx, data):\n",
    "    bottom_index =  len(data) - 1\n",
    "    if bottom_index < 0:\n",
    "        return False\n",
    "    if idx >= data[bottom_index][3]:\n",
    "        return False\n",
    "    \n",
    "    top_index = 0 \n",
    "    while top_index <= bottom_index:        \n",
    "        mid_index = top_index + floor((bottom_index - top_index) // 2)\n",
    "        mid_val = data[mid_index][1]\n",
    "#         print('%d (%d  %d) mid_i=%d  mid_v=%d' % (idx, top_index, bottom_index, mid_index, mid_val))\n",
    "        if mid_val <= idx <= data[mid_index][2]:\n",
    "            return True\n",
    "        elif data[mid_index][2] < idx <= data[mid_index][3]:\n",
    "            return False\n",
    "        elif idx < mid_val:\n",
    "            bottom_index = mid_index\n",
    "        elif idx > mid_val:\n",
    "            top_index = mid_index + 1\n",
    " \n",
    "# 373 (3  4) mid_i=3  mid_v=245\n",
    "        \n",
    "r = is_valid_idx(0, fbt_array)        \n",
    "print(r == True)\n",
    "\n",
    "        \n",
    "r = is_valid_idx(100, fbt_array)        \n",
    "print(r == True)\n",
    "\n",
    "        \n",
    "r = is_valid_idx(112, fbt_array)        \n",
    "print(r == False)\n",
    "\n",
    "r = is_valid_idx(156, fbt_array)   \n",
    "print(r)\n",
    "\n",
    "\n",
    "r = is_valid_idx(373, fbt_array)   \n",
    "print(r)\n",
    "\n",
    "\n",
    "\n",
    "r = is_valid_idx(374, fbt_array)   \n",
    "print(r)\n",
    "\n",
    "\n",
    "\n",
    "r = is_valid_idx(700, fbt_array)   \n",
    "print(r)\n",
    "\n",
    "\n",
    "r = is_valid_idx(710, fbt_array)   \n",
    "print(r == False)\n",
    "\n",
    "r = is_valid_idx(712, fbt_array)   \n",
    "print(r == False)\n",
    "\n",
    "r = is_valid_idx(713, fbt_array)   \n",
    "print(r == False)\n",
    "\n"
   ]
  },
  {
   "cell_type": "code",
   "execution_count": 41,
   "metadata": {},
   "outputs": [
    {
     "name": "stdout",
     "output_type": "stream",
     "text": [
      "True\n",
      "True\n",
      "True\n",
      "True\n",
      "True\n",
      "True\n"
     ]
    }
   ],
   "source": [
    "\n",
    "\n",
    "fbt_array = [\n",
    "    [0,   0, 100, 112],\n",
    "    [1, 113, 156, 168]]\n",
    "\n",
    "\n",
    "r = is_valid_idx(0, fbt_array)        \n",
    "print(r)\n",
    "\n",
    "        \n",
    "r = is_valid_idx(100, fbt_array)        \n",
    "print(r)\n",
    "\n",
    "        \n",
    "r = is_valid_idx(101, fbt_array)        \n",
    "print(r == False)\n",
    "        \n",
    "r = is_valid_idx(112, fbt_array)        \n",
    "print(r == False)\n",
    "\n",
    "r = is_valid_idx(156, fbt_array)   \n",
    "print(r)\n",
    "\n",
    "\n",
    "r = is_valid_idx(157, fbt_array)   \n",
    "print(r == False )\n",
    "\n"
   ]
  },
  {
   "cell_type": "code",
   "execution_count": 58,
   "metadata": {},
   "outputs": [
    {
     "name": "stdout",
     "output_type": "stream",
     "text": [
      "[[  0   0 100 112]\n",
      " [  1 113 156 168]\n",
      " [  2 168 230 242]\n",
      " [  3 245 360 372]\n",
      " [  4 373 700 712]]\n",
      "[[  0   0 100 112]\n",
      " [  1 113 156 168]\n",
      " [  2 168 230 242]\n",
      " [  3 245 360 372]\n",
      " [  4 373 700 712]]\n",
      "[100 213 268 345 473]\n"
     ]
    }
   ],
   "source": [
    "import numpy as np\n",
    "\n",
    "fbt = [\n",
    "    [0,   0, 100, 112],\n",
    "    [1, 113, 156, 168],\n",
    "    [2, 168, 230, 242],\n",
    "    [3, 245, 360, 372],\n",
    "    [4, 373, 700, 712]]\n",
    "\n",
    "a = np.asarray(fbt, dtype=np.int32)\n",
    "b = a.copy()\n",
    "print(a)\n",
    "print(b)\n",
    "\n",
    "b = b[:, 1] + 100\n",
    "print(b)"
   ]
  },
  {
   "cell_type": "code",
   "execution_count": 60,
   "metadata": {},
   "outputs": [
    {
     "data": {
      "text/plain": [
       "(array([0, 0, 1, 1, 2, 3]), array([0, 3, 2, 3, 1, 0]))"
      ]
     },
     "execution_count": 60,
     "metadata": {},
     "output_type": "execute_result"
    }
   ],
   "source": [
    "a = np.array([\n",
    "       [8, 1, 0, 8],\n",
    "       [1, 4, 8, 8],\n",
    "       [7, 8, 7, 6],\n",
    "       [8, 7, 6, 5]])\n",
    "(rowa,cola)=np.where(a==np.max(a,axis=0))  # 每列最大元素的索引\n",
    "(rowa,cola)"
   ]
  },
  {
   "cell_type": "code",
   "execution_count": null,
   "metadata": {},
   "outputs": [],
   "source": []
  }
 ],
 "metadata": {
  "kernelspec": {
   "display_name": "Python 3",
   "language": "python",
   "name": "python3"
  },
  "language_info": {
   "codemirror_mode": {
    "name": "ipython",
    "version": 3
   },
   "file_extension": ".py",
   "mimetype": "text/x-python",
   "name": "python",
   "nbconvert_exporter": "python",
   "pygments_lexer": "ipython3",
   "version": "3.8.3"
  }
 },
 "nbformat": 4,
 "nbformat_minor": 4
}
