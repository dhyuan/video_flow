{
 "cells": [
  {
   "cell_type": "markdown",
   "metadata": {},
   "source": [
    "### 比较数组拼接效率"
   ]
  },
  {
   "cell_type": "code",
   "execution_count": 1,
   "metadata": {},
   "outputs": [
    {
     "name": "stdout",
     "output_type": "stream",
     "text": [
      "----1000\n",
      "158 µs ± 0 ns per loop (mean ± std. dev. of 1 run, 1 loop each)\n",
      "669 µs ± 0 ns per loop (mean ± std. dev. of 1 run, 1 loop each)\n",
      "650 µs ± 0 ns per loop (mean ± std. dev. of 1 run, 1 loop each)\n",
      "----10000\n",
      "1.42 ms ± 0 ns per loop (mean ± std. dev. of 1 run, 1 loop each)\n",
      "9.31 ms ± 0 ns per loop (mean ± std. dev. of 1 run, 1 loop each)\n",
      "7.56 ms ± 0 ns per loop (mean ± std. dev. of 1 run, 1 loop each)\n"
     ]
    }
   ],
   "source": [
    "import numpy as np\n",
    "import math\n",
    "\n",
    "def compose_list(row_numb):\n",
    "    features = []\n",
    "    total_numb = row_numb * 4\n",
    "    for i in range(1, total_numb, 4):\n",
    "        features.append([i, i + 1, i + 2, i + 3])\n",
    "    return features\n",
    "\n",
    "\n",
    "def compose_array_from_list(list_of_data):\n",
    "    array = np.array(list_of_data, dtype=np.float32)\n",
    "    return array\n",
    "\n",
    "\n",
    "def compose_array_by_vstack(list_of_data):\n",
    "    array = np.empty((0, 4), dtype=np.float32)\n",
    "    for i in range(len(list_of_data)):\n",
    "        data = list_of_data[i]\n",
    "        array = np.vstack((array, data))\n",
    "    return array\n",
    "\n",
    "def compose_array_by_append(list_of_data):\n",
    "    array = []\n",
    "    for i in range(len(list_of_data)):\n",
    "        data = list_of_data[i]\n",
    "        array.append(data)\n",
    "    return array\n",
    "\n",
    "def compose_from_array(arr):\n",
    "    return np.asarray(arr)\n",
    "\n",
    "\n",
    "for i in range(2):\n",
    "    row_numb = 1000 * int(math.pow(10, i))\n",
    "    list_of_data = compose_list(row_numb)\n",
    "\n",
    "    print('----%d' % row_numb)\n",
    "\n",
    "    %timeit -r 1 -n 1 compose_array_by_append(list_of_data) \n",
    "    \n",
    "    array_data = compose_array_by_append(list_of_data) \n",
    "    %timeit -r 1 -n 1 compose_from_array(array_data)\n",
    "    \n",
    "    %timeit -r 1 -n 1 compose_array_from_list(list_of_data)\n",
    "# %timeit -r 1 -n 1 compose_array_by_vstack(list_of_data)     \n",
    "\n",
    "# compose_array_by_append(list_of_data)\n"
   ]
  },
  {
   "cell_type": "code",
   "execution_count": 4,
   "metadata": {},
   "outputs": [
    {
     "data": {
      "text/plain": [
       "array([(1, 1.1), (2, 1.2), (3, 1.3)], dtype=[('f0', '<i8'), ('f1', '<f8')])"
      ]
     },
     "execution_count": 4,
     "metadata": {},
     "output_type": "execute_result"
    }
   ],
   "source": [
    "xlist = [(1, 1.1), (2, 1.2), (3, 1.3)]\n",
    "dt=np.dtype('int,float')\n",
    "np.array(xlist,dtype=dt)"
   ]
  },
  {
   "cell_type": "code",
   "execution_count": 6,
   "metadata": {},
   "outputs": [
    {
     "data": {
      "text/plain": [
       "array([(1, 1.1), (2, 1.2), (3, 1.3)], dtype=[('f0', '<i8'), ('f1', '<f8')])"
      ]
     },
     "execution_count": 6,
     "metadata": {},
     "output_type": "execute_result"
    }
   ],
   "source": [
    "xarr = np.array(xlist,dtype=dt)\n",
    "xarr"
   ]
  },
  {
   "cell_type": "code",
   "execution_count": 14,
   "metadata": {},
   "outputs": [
    {
     "data": {
      "text/plain": [
       "[(1, 2), (3, 4), (4, 5), (5, 6)]"
      ]
     },
     "execution_count": 14,
     "metadata": {},
     "output_type": "execute_result"
    }
   ],
   "source": [
    "list_a = [(1, 2), (3, 4)]\n",
    "list_b = [(4, 5), (5, 6)]\n",
    "r = list_a.extend(list_b)\n",
    "list_a"
   ]
  },
  {
   "cell_type": "code",
   "execution_count": null,
   "metadata": {},
   "outputs": [],
   "source": []
  }
 ],
 "metadata": {
  "kernelspec": {
   "display_name": "Python 3",
   "language": "python",
   "name": "python3"
  },
  "language_info": {
   "codemirror_mode": {
    "name": "ipython",
    "version": 3
   },
   "file_extension": ".py",
   "mimetype": "text/x-python",
   "name": "python",
   "nbconvert_exporter": "python",
   "pygments_lexer": "ipython3",
   "version": "3.8.3"
  }
 },
 "nbformat": 4,
 "nbformat_minor": 4
}
