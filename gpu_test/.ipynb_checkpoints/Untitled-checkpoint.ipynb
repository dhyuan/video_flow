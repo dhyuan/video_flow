{
 "cells": [
  {
   "cell_type": "code",
   "execution_count": 1,
   "metadata": {},
   "outputs": [
    {
     "name": "stdout",
     "output_type": "stream",
     "text": [
      "[[ 1  2  3  4]\n",
      " [ 5  6  7  8]\n",
      " [ 9 10 11 12]\n",
      " [13 14 15 16]\n",
      " [17 18 19 20]\n",
      " [21 22 23 24]\n",
      " [25 26 27 28]\n",
      " [29 30 31 32]]\n"
     ]
    }
   ],
   "source": [
    "import numpy as np\n",
    "\n",
    "\n",
    "def compose_list(row_numb):\n",
    "    features = []\n",
    "    total_numb = row_numb * 4\n",
    "    for i in range(1, total_numb, 4):\n",
    "        features.append([i, i + 1, i + 2, i + 3])\n",
    "    return features\n",
    "\n",
    "\n",
    "\n",
    "def compose_array_by_append(list_of_data):\n",
    "    array = []\n",
    "    for i in range(len(list_of_data)):\n",
    "        data = list_of_data[i]\n",
    "        array.append(data)\n",
    "    return array\n",
    "\n",
    "\n",
    "row_numb = 8\n",
    "list_of_data = compose_list(row_numb)\n",
    "\n",
    "arr = compose_array_by_append(list_of_data)\n",
    "a = np.asarray(arr)\n",
    "print(a)\n",
    "\n",
    "\n"
   ]
  },
  {
   "cell_type": "markdown",
   "metadata": {},
   "source": [
    "### 按条件过滤第一列数据"
   ]
  },
  {
   "cell_type": "code",
   "execution_count": 4,
   "metadata": {},
   "outputs": [
    {
     "data": {
      "text/plain": [
       "array([[0.51, 5.  , 3.  , 4.  ],\n",
       "       [0.21, 6.  , 3.  , 4.  ]], dtype=float32)"
      ]
     },
     "execution_count": 4,
     "metadata": {},
     "output_type": "execute_result"
    }
   ],
   "source": [
    "a = np.array([\n",
    "    [0.1, 1, 3, 4],\n",
    "    [0.11, 2, 3, 4],\n",
    "    [0.91, 3, 3, 4],\n",
    "    [0.31, 4, 3, 4],\n",
    "    [0.51, 5, 3, 4],\n",
    "    [0.21, 6, 3, 4],\n",
    "], dtype=np.float32)\n",
    "b= a[np.where((a[:,0] > 0.2) & (a[:,1] > 4))]\n",
    "b\n"
   ]
  },
  {
   "cell_type": "code",
   "execution_count": 14,
   "metadata": {},
   "outputs": [
    {
     "data": {
      "text/plain": [
       "array([[0., 1., 0.],\n",
       "       [0., 2., 0.],\n",
       "       [0., 3., 0.],\n",
       "       [0., 4., 0.]], dtype=float32)"
      ]
     },
     "execution_count": 14,
     "metadata": {},
     "output_type": "execute_result"
    }
   ],
   "source": [
    "all_data = np.load('all_features.npy')\n",
    "len(all_data)\n",
    "all_data.ndim\n",
    "\n",
    "all_data[1:5,:]\n"
   ]
  },
  {
   "cell_type": "code",
   "execution_count": 12,
   "metadata": {},
   "outputs": [
    {
     "data": {
      "text/plain": [
       "array([], shape=(0, 3), dtype=float32)"
      ]
     },
     "execution_count": 12,
     "metadata": {},
     "output_type": "execute_result"
    }
   ],
   "source": [
    "all_data[np.where((all_data[:,0] > 0.015))]"
   ]
  },
  {
   "cell_type": "code",
   "execution_count": null,
   "metadata": {},
   "outputs": [],
   "source": [
    "a = math.ceil(3.4)\n",
    "print(a)"
   ]
  },
  {
   "cell_type": "code",
   "execution_count": null,
   "metadata": {},
   "outputs": [],
   "source": []
  },
  {
   "cell_type": "code",
   "execution_count": null,
   "metadata": {},
   "outputs": [],
   "source": []
  }
 ],
 "metadata": {
  "kernelspec": {
   "display_name": "Python 3",
   "language": "python",
   "name": "python3"
  },
  "language_info": {
   "codemirror_mode": {
    "name": "ipython",
    "version": 3
   },
   "file_extension": ".py",
   "mimetype": "text/x-python",
   "name": "python",
   "nbconvert_exporter": "python",
   "pygments_lexer": "ipython3",
   "version": "3.8.3"
  }
 },
 "nbformat": 4,
 "nbformat_minor": 4
}
