{
 "cells": [
  {
   "cell_type": "code",
   "execution_count": null,
   "metadata": {},
   "outputs": [],
   "source": [
    "import tensorflow as tf\n",
    "\n",
    "\n",
    "def create_graph():\n",
    "    with tf.gfile.FastGFile(model_path, 'rb') as f:\n",
    "        graph_def = tf.GraphDef()\n",
    "        graph_def.ParseFromString(f.read())\n",
    "        _ = tf.import_graph_def(graph_def, name='')\n",
    "        \n",
    "\n",
    "# 执行预测\n",
    "def predict_image(result_file):\n",
    "    time1=time.time()\n",
    "    image_data = tf.gfile.FastGFile(image_path, 'rb').read()  # 读取图片\n",
    "    with tf.Session() as sess:\n",
    "        softmax_tensor = sess.graph.get_tensor_by_name('softmax:0')  # 从计算图中提取张量\n",
    "        predictions = sess.run(softmax_tensor, {'DecodeJpeg/contents:0': image_data})  # 输入feed_dict进行运算\n",
    "        predictions = np.squeeze(predictions)  # 去掉冗余的1维形状，比如把张量形状从(1,3,1)变为(3)\n",
    "        top5 = predictions.argsort()[-5:][::-1]\n",
    "        time3=time.time()\n",
    "        printlog('图片预测计算时间为：'+str(round(time3-time1,2))+'s')\n",
    "        \n",
    "        "
   ]
  }
 ],
 "metadata": {
  "kernelspec": {
   "display_name": "Python 3",
   "language": "python",
   "name": "python3"
  },
  "language_info": {
   "codemirror_mode": {
    "name": "ipython",
    "version": 3
   },
   "file_extension": ".py",
   "mimetype": "text/x-python",
   "name": "python",
   "nbconvert_exporter": "python",
   "pygments_lexer": "ipython3",
   "version": "3.8.3"
  }
 },
 "nbformat": 4,
 "nbformat_minor": 4
}
